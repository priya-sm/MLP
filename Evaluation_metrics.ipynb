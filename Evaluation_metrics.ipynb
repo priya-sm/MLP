{
  "nbformat": 4,
  "nbformat_minor": 0,
  "metadata": {
    "colab": {
      "provenance": [],
      "toc_visible": true
    },
    "kernelspec": {
      "name": "python3",
      "display_name": "Python 3"
    },
    "language_info": {
      "name": "python"
    }
  },
  "cells": [
    {
      "cell_type": "markdown",
      "source": [
        "#**Evaluation Metrics**\n",
        "\n",
        "1. [Regression Metrics](#rm)\n",
        "    - [MSE (Mean Squared Error)](#mse)\n",
        "    - [RMSE (Root Mean Squared Error)](#rmse)\n",
        "    - [MAE (Mean Absolute Error)](#mae)\n",
        "    - [R-squared](#r-squared)\n",
        "    - [Adjusted R-squared](#adjusted-r2)\n",
        "    - [Pearson Correlation](#pearson-correlation)\n",
        "    - [Spearman Correlation](#spearman-correlation)\n",
        "\n",
        "2. [Classification Metrics](#cm)\n",
        "    - [Accuracy](#accuracy)\n",
        "    - [Precision](#precision)\n",
        "    - [Recall](#recall)\n",
        "    - [F1 Score](#f1-score)\n",
        "    - [Confusion Matrix](#confusion-matrix)\n",
        "    - [Specificity](#specificity)\n",
        "    - [Log Loss / Binary Cross Entropy Loss](#log-loss)\n",
        "    - [ROC Curve and AUC](#roc-auc)\n"
      ],
      "metadata": {
        "id": "y03rMfQvH3Jc"
      }
    },
    {
      "cell_type": "markdown",
      "source": [
        "#**1. Regression Metrics**"
      ],
      "metadata": {
        "id": "Db---BbYNXjd"
      }
    },
    {
      "cell_type": "code",
      "source": [
        "from sklearn import metrics\n",
        "dir(metrics)"
      ],
      "metadata": {
        "colab": {
          "base_uri": "https://localhost:8080/"
        },
        "id": "bKCEMvYuNtNi",
        "outputId": "876f50a2-67fb-473b-8e33-af3ffc456a48"
      },
      "execution_count": 59,
      "outputs": [
        {
          "output_type": "execute_result",
          "data": {
            "text/plain": [
              "['ConfusionMatrixDisplay',\n",
              " 'DetCurveDisplay',\n",
              " 'DistanceMetric',\n",
              " 'PrecisionRecallDisplay',\n",
              " 'PredictionErrorDisplay',\n",
              " 'RocCurveDisplay',\n",
              " '__all__',\n",
              " '__builtins__',\n",
              " '__cached__',\n",
              " '__doc__',\n",
              " '__file__',\n",
              " '__loader__',\n",
              " '__name__',\n",
              " '__package__',\n",
              " '__path__',\n",
              " '__spec__',\n",
              " '_base',\n",
              " '_classification',\n",
              " '_dist_metrics',\n",
              " '_pairwise_distances_reduction',\n",
              " '_pairwise_fast',\n",
              " '_plot',\n",
              " '_ranking',\n",
              " '_regression',\n",
              " '_scorer',\n",
              " 'accuracy_score',\n",
              " 'adjusted_mutual_info_score',\n",
              " 'adjusted_rand_score',\n",
              " 'auc',\n",
              " 'average_precision_score',\n",
              " 'balanced_accuracy_score',\n",
              " 'brier_score_loss',\n",
              " 'calinski_harabasz_score',\n",
              " 'check_scoring',\n",
              " 'class_likelihood_ratios',\n",
              " 'classification_report',\n",
              " 'cluster',\n",
              " 'cohen_kappa_score',\n",
              " 'completeness_score',\n",
              " 'confusion_matrix',\n",
              " 'consensus_score',\n",
              " 'coverage_error',\n",
              " 'd2_absolute_error_score',\n",
              " 'd2_log_loss_score',\n",
              " 'd2_pinball_score',\n",
              " 'd2_tweedie_score',\n",
              " 'davies_bouldin_score',\n",
              " 'dcg_score',\n",
              " 'det_curve',\n",
              " 'euclidean_distances',\n",
              " 'explained_variance_score',\n",
              " 'f1_score',\n",
              " 'fbeta_score',\n",
              " 'fowlkes_mallows_score',\n",
              " 'get_scorer',\n",
              " 'get_scorer_names',\n",
              " 'hamming_loss',\n",
              " 'hinge_loss',\n",
              " 'homogeneity_completeness_v_measure',\n",
              " 'homogeneity_score',\n",
              " 'jaccard_score',\n",
              " 'label_ranking_average_precision_score',\n",
              " 'label_ranking_loss',\n",
              " 'log_loss',\n",
              " 'make_scorer',\n",
              " 'matthews_corrcoef',\n",
              " 'max_error',\n",
              " 'mean_absolute_error',\n",
              " 'mean_absolute_percentage_error',\n",
              " 'mean_gamma_deviance',\n",
              " 'mean_pinball_loss',\n",
              " 'mean_poisson_deviance',\n",
              " 'mean_squared_error',\n",
              " 'mean_squared_log_error',\n",
              " 'mean_tweedie_deviance',\n",
              " 'median_absolute_error',\n",
              " 'multilabel_confusion_matrix',\n",
              " 'mutual_info_score',\n",
              " 'nan_euclidean_distances',\n",
              " 'ndcg_score',\n",
              " 'normalized_mutual_info_score',\n",
              " 'pair_confusion_matrix',\n",
              " 'pairwise',\n",
              " 'pairwise_distances',\n",
              " 'pairwise_distances_argmin',\n",
              " 'pairwise_distances_argmin_min',\n",
              " 'pairwise_distances_chunked',\n",
              " 'pairwise_kernels',\n",
              " 'precision_recall_curve',\n",
              " 'precision_recall_fscore_support',\n",
              " 'precision_score',\n",
              " 'r2_score',\n",
              " 'rand_score',\n",
              " 'recall_score',\n",
              " 'roc_auc_score',\n",
              " 'roc_curve',\n",
              " 'root_mean_squared_error',\n",
              " 'root_mean_squared_log_error',\n",
              " 'silhouette_samples',\n",
              " 'silhouette_score',\n",
              " 'top_k_accuracy_score',\n",
              " 'v_measure_score',\n",
              " 'zero_one_loss']"
            ]
          },
          "metadata": {},
          "execution_count": 59
        }
      ]
    },
    {
      "cell_type": "markdown",
      "source": [
        "## <a id='mse'></a>MSE (Mean Squared Error)\n",
        "- MSE measures the average squared difference between the predicted values and the actual values. Lower MSE values indicate better model performance."
      ],
      "metadata": {
        "id": "GGw84QTvG58F"
      }
    },
    {
      "cell_type": "code",
      "execution_count": 60,
      "metadata": {
        "colab": {
          "base_uri": "https://localhost:8080/"
        },
        "id": "CQ32eBRGG1Te",
        "outputId": "244f8094-0915-4416-d3f4-8fc5f9c277fb"
      },
      "outputs": [
        {
          "output_type": "stream",
          "name": "stdout",
          "text": [
            "MSE:  0.15333333333333318\n"
          ]
        }
      ],
      "source": [
        "import numpy as np\n",
        "from sklearn.metrics import mean_squared_error\n",
        "\n",
        "actual = np.array([2,5,4])\n",
        "predicted = np.array([2.1,5.3,4.6])\n",
        "\n",
        "mse = mean_squared_error(actual,predicted)\n",
        "print('MSE: ', mse)"
      ]
    },
    {
      "cell_type": "markdown",
      "source": [
        "- Lower MSE values indicates better model."
      ],
      "metadata": {
        "id": "KvgqDLcGIRcU"
      }
    },
    {
      "cell_type": "code",
      "source": [
        "#import necessary libraries\n",
        "import numpy as np\n",
        "from sklearn.model_selection import train_test_split\n",
        "from sklearn.linear_model import LinearRegression\n",
        "from sklearn.metrics import mean_squared_error\n",
        "\n",
        "X = np.array([[1],[2],[3],[4],[5],[6],[7],[8],[9],[10]])\n",
        "y=  np.array([2,4,6,8,10,12,14,16,18,20])\n",
        "\n",
        "#split data\n",
        "X_train , X_test, y_train, y_test = train_test_split(X,y,test_size=0.2, random_state=42)\n",
        "\n",
        "#create and train model\n",
        "model = LinearRegression()\n",
        "model.fit(X_train,y_train)\n",
        "\n",
        "#make prediction\n",
        "y_pred = model.predict(X_test)\n",
        "\n",
        "#mse\n",
        "mse = mean_squared_error(y_test,y_pred)\n",
        "print('MSE: ', mse)\n",
        "\n"
      ],
      "metadata": {
        "colab": {
          "base_uri": "https://localhost:8080/"
        },
        "id": "MIloMmlOHjih",
        "outputId": "21673a58-e721-4181-e550-95fa77c4c5b0"
      },
      "execution_count": 61,
      "outputs": [
        {
          "output_type": "stream",
          "name": "stdout",
          "text": [
            "MSE:  3.944304526105059e-31\n"
          ]
        }
      ]
    },
    {
      "cell_type": "code",
      "source": [
        "import sklearn.model_selection as model_selection\n",
        "dir(model_selection)"
      ],
      "metadata": {
        "colab": {
          "base_uri": "https://localhost:8080/"
        },
        "id": "LjGDQpARMSUu",
        "outputId": "293e3932-0fcd-4778-accf-cec36757a82d"
      },
      "execution_count": 62,
      "outputs": [
        {
          "output_type": "execute_result",
          "data": {
            "text/plain": [
              "['BaseCrossValidator',\n",
              " 'BaseShuffleSplit',\n",
              " 'FixedThresholdClassifier',\n",
              " 'GridSearchCV',\n",
              " 'GroupKFold',\n",
              " 'GroupShuffleSplit',\n",
              " 'KFold',\n",
              " 'LearningCurveDisplay',\n",
              " 'LeaveOneGroupOut',\n",
              " 'LeaveOneOut',\n",
              " 'LeavePGroupsOut',\n",
              " 'LeavePOut',\n",
              " 'ParameterGrid',\n",
              " 'ParameterSampler',\n",
              " 'PredefinedSplit',\n",
              " 'RandomizedSearchCV',\n",
              " 'RepeatedKFold',\n",
              " 'RepeatedStratifiedKFold',\n",
              " 'ShuffleSplit',\n",
              " 'StratifiedGroupKFold',\n",
              " 'StratifiedKFold',\n",
              " 'StratifiedShuffleSplit',\n",
              " 'TimeSeriesSplit',\n",
              " 'TunedThresholdClassifierCV',\n",
              " 'ValidationCurveDisplay',\n",
              " '__all__',\n",
              " '__builtins__',\n",
              " '__cached__',\n",
              " '__doc__',\n",
              " '__file__',\n",
              " '__getattr__',\n",
              " '__loader__',\n",
              " '__name__',\n",
              " '__package__',\n",
              " '__path__',\n",
              " '__spec__',\n",
              " '_classification_threshold',\n",
              " '_plot',\n",
              " '_search',\n",
              " '_split',\n",
              " '_validation',\n",
              " 'check_cv',\n",
              " 'cross_val_predict',\n",
              " 'cross_val_score',\n",
              " 'cross_validate',\n",
              " 'learning_curve',\n",
              " 'permutation_test_score',\n",
              " 'train_test_split',\n",
              " 'typing',\n",
              " 'validation_curve']"
            ]
          },
          "metadata": {},
          "execution_count": 62
        }
      ]
    },
    {
      "cell_type": "markdown",
      "source": [
        "##<a id='rmse'></a>RMSE (Root Mean Squared Error)\n",
        "- RMSE is the square root of MSE, representing the standard deviation of the prediction errors. Similar to MSE, lower RMSE values indicate better model performance."
      ],
      "metadata": {
        "id": "FrGn_G2afDGk"
      }
    },
    {
      "cell_type": "code",
      "source": [
        "#rmse\n",
        "rmse = np.sqrt(mse)\n",
        "print('RMSE: ', rmse)"
      ],
      "metadata": {
        "colab": {
          "base_uri": "https://localhost:8080/"
        },
        "id": "oVkjxPqnM-M3",
        "outputId": "f15638a2-0725-4898-b726-c03c04c884db"
      },
      "execution_count": 63,
      "outputs": [
        {
          "output_type": "stream",
          "name": "stdout",
          "text": [
            "RMSE:  6.280369834735101e-16\n"
          ]
        }
      ]
    },
    {
      "cell_type": "markdown",
      "source": [
        "## <a id='mae'></a>MAE (Mean Absolute Error)\n",
        "- MAE measures the average absolute difference between the predicted values and the actual values. It is less sensitive to outliers compared to MSE or RMSE."
      ],
      "metadata": {
        "id": "pSw8B-CwhDDu"
      }
    },
    {
      "cell_type": "code",
      "source": [
        "from sklearn.metrics import mean_absolute_error\n",
        "mae = mean_absolute_error(y_test,y_pred)\n",
        "mae"
      ],
      "metadata": {
        "id": "ND6qcaF1cn9_",
        "colab": {
          "base_uri": "https://localhost:8080/"
        },
        "outputId": "cb7862a4-6512-4dd9-cd43-355f2efb552b"
      },
      "execution_count": 64,
      "outputs": [
        {
          "output_type": "execute_result",
          "data": {
            "text/plain": [
              "4.440892098500626e-16"
            ]
          },
          "metadata": {},
          "execution_count": 64
        }
      ]
    },
    {
      "cell_type": "markdown",
      "source": [
        "## <a id='r-squared'></a>R-squared\n",
        "- R-squared measures the proportion of the variance in the target variable that is explained by the model. Higher R-squared values indicate better model fit."
      ],
      "metadata": {
        "id": "D44O-WDMxvBA"
      }
    },
    {
      "cell_type": "code",
      "source": [
        "from sklearn.metrics import r2_score\n",
        "\n",
        "y_true = [3, 1, 2, 7]\n",
        "y_pred = [2.5, 1.5, 2.5, 8]\n",
        "\n",
        "r2 = r2_score(y_true, y_pred)\n",
        "r2\n"
      ],
      "metadata": {
        "colab": {
          "base_uri": "https://localhost:8080/"
        },
        "id": "o2i3t7Juxwk8",
        "outputId": "105b025b-2e19-40eb-ca7c-f6206e08c7ac"
      },
      "execution_count": 65,
      "outputs": [
        {
          "output_type": "execute_result",
          "data": {
            "text/plain": [
              "0.9156626506024097"
            ]
          },
          "metadata": {},
          "execution_count": 65
        }
      ]
    },
    {
      "cell_type": "markdown",
      "source": [
        "## <a id='adjusted-r2'></a>Adjusted R-squared\n",
        "The adjusted R-squared is a modified version of R-squared that accounts for predictors that are not significant in a regression model. In other words, the adjusted R-squared shows whether adding additional predictors improve a regression model or not.\n",
        "\n",
        "\n",
        ">$\n",
        "\\text{Adjusted } R^2 = 1 - \\left( \\frac{(1 - R^2)(n - 1)}{n - p - 1} \\right)\n",
        "$\n",
        "\n",
        "Where:\n",
        "- \\( R^2 \\) = R-squared (coefficient of determination)\n",
        "- \\( n \\) = number of data points (samples)\n",
        "- \\( p \\) = number of predictors (features)"
      ],
      "metadata": {
        "id": "QF4Ot71dSrUz"
      }
    },
    {
      "cell_type": "code",
      "source": [
        "r2n = len(y_true)\n",
        "p = 1\n",
        "\n",
        "adj_r2 = 1 - (1 - r2) * (r2n - 1) / (r2n - p - 1)\n",
        "print(f'Adjusted R-squared: {adj_r2}')"
      ],
      "metadata": {
        "colab": {
          "base_uri": "https://localhost:8080/"
        },
        "id": "USegcM_dSsxS",
        "outputId": "75cb6f2f-380b-4543-8045-85a128e88cc6"
      },
      "execution_count": 66,
      "outputs": [
        {
          "output_type": "stream",
          "name": "stdout",
          "text": [
            "Adjusted R-squared: 0.8734939759036146\n"
          ]
        }
      ]
    },
    {
      "cell_type": "markdown",
      "source": [
        "## <a id='pearson-correlation'></a>Pearson Correlation\n",
        "\n",
        "**Pearson Correlation** is a statistical measure that calculates the strength and direction of the linear relationship between two variables. The value of the Pearson Correlation coefficient (denoted as **r**) ranges from -1 to 1:\n",
        "- **r = 1** indicates a perfect positive linear relationship.\n",
        "- **r = -1** indicates a perfect negative linear relationship.\n",
        "- **r = 0** indicates no linear relationship between the variables.\n",
        "\n",
        "\n",
        ">$\n",
        "r = \\frac{ \\sum_{i=1}^{n} (x_i - \\overline{x})(y_i - \\overline{y}) }{ \\sqrt{ \\sum_{i=1}^{n} (x_i - \\overline{x})^2 } \\sqrt{ \\sum_{i=1}^{n} (y_i - \\overline{y})^2 } }\n",
        "$\n",
        "\n",
        "Where:\n",
        "- ($ x_i $) and ( $y_i$ ) are the individual sample points.\n",
        "- \\( $\\overline{x}$) and ( $\\overline{y}$) are the mean values of \\($ x$ \\) and \\( $y$ \\), respectively.\n",
        "- \\( $n$ \\) is the number of data points.\n",
        "\n"
      ],
      "metadata": {
        "id": "9o0Ie7pWVzui"
      }
    },
    {
      "cell_type": "code",
      "source": [
        "import pandas as pd\n",
        "\n",
        "data = {'x': [10, 12, 13, 15, 18],\n",
        "        'y': [23, 25, 26, 29, 32]}\n",
        "\n",
        "df = pd.DataFrame(data)\n",
        "\n",
        "pearson_corr = df['x'].corr(df['y'], method='pearson')\n",
        "print(f'Pearson Correlation (using pandas): {pearson_corr}')\n",
        "\n",
        "correlation_matrix = np.corrcoef(df['x'], df['y'])\n",
        "pearson_corr_numpy = correlation_matrix[0, 1]\n",
        "print(f'Pearson Correlation (using numpy): {pearson_corr_numpy}')"
      ],
      "metadata": {
        "colab": {
          "base_uri": "https://localhost:8080/"
        },
        "id": "F0suCwC-Wpjo",
        "outputId": "48160466-291b-4bbc-a329-6d2315ac24f6"
      },
      "execution_count": 67,
      "outputs": [
        {
          "output_type": "stream",
          "name": "stdout",
          "text": [
            "Pearson Correlation (using pandas): 0.9970386258843617\n",
            "Pearson Correlation (using numpy): 0.9970386258843617\n"
          ]
        }
      ]
    },
    {
      "cell_type": "markdown",
      "source": [
        "**Using pandas**: The `.corr()` method calculates the Pearson correlation coefficient between two columns in a DataFrame.\n",
        "\n",
        "**Using numpy**: `np.corrcoef()` returns the correlation matrix, where the value at [0, 1] (or [1, 0]) is the Pearson correlation between the two variables."
      ],
      "metadata": {
        "id": "wHJJOV2qW17B"
      }
    },
    {
      "cell_type": "markdown",
      "source": [
        "## <a id='spearman-correlation'></a>Spearman Correlation\n",
        "Spearman Correlation is a non-parametric measure of the strength and direction of the monotonic relationship between two variables. It assesses how well the relationship between two variables can be described using a monotonic function. Unlike Pearson correlation, Spearman does not assume a linear relationship or normality of the data.\n",
        "\n",
        ">$\n",
        "r_s = 1- \\frac{6 \\sum d_i^2 }{n(n^2-1) }\n",
        "$\n",
        "\n",
        "- $r_s$ ​is the Spearman rank correlation coefficient.\n",
        "- $𝑑_𝑖$ is the difference between the ranks of the corresponding values of the two variables.\n",
        "- $𝑛$ is the number of data points."
      ],
      "metadata": {
        "id": "x-KkfobQXAzx"
      }
    },
    {
      "cell_type": "code",
      "source": [
        "from scipy.stats import spearmanr\n",
        "\n",
        "# using pandas\n",
        "spearman_corr = df['x'].corr(df['y'], method='spearman')\n",
        "print(f'Spearman Correlation (using pandas): {spearman_corr}')\n",
        "\n",
        "#using scipy's spearmanr\n",
        "spearman_corr_scipy, _ = spearmanr(df['x'], df['y'])\n",
        "print(f'Spearman Correlation (using scipy): {spearman_corr_scipy}')\n"
      ],
      "metadata": {
        "colab": {
          "base_uri": "https://localhost:8080/"
        },
        "id": "G2ndMZCUXM7o",
        "outputId": "9eaa95a1-7a03-4cb6-ac97-d3605bdd47b4"
      },
      "execution_count": 68,
      "outputs": [
        {
          "output_type": "stream",
          "name": "stdout",
          "text": [
            "Spearman Correlation (using pandas): 0.9999999999999999\n",
            "Spearman Correlation (using scipy): 0.9999999999999999\n"
          ]
        }
      ]
    },
    {
      "cell_type": "markdown",
      "source": [
        "**Using pandas**: The `.corr()` method with method='spearman' calculates the Spearman correlation coefficient.\n",
        "\n",
        "**Using scipy**: The `spearmanr()` function from scipy.stats also calculates the Spearman rank correlation coefficient."
      ],
      "metadata": {
        "id": "QKNisnz6XXef"
      }
    },
    {
      "cell_type": "markdown",
      "source": [
        "#**<a id='cm'></a>2. Classification**"
      ],
      "metadata": {
        "id": "-dbOM3XVmTMv"
      }
    },
    {
      "cell_type": "markdown",
      "source": [
        "## <a id='accuracy'></a>Accuracy\n",
        "Accuracy is calculated by dividing the number of correct predictions by the total number of predictions.\n",
        "\n",
        "> ${Accuracy} = \\frac{\\text{Number of Correct Predictions}}{\\text{Total Number of Predictions}} = \\frac{TP + TN}{TP + TN + FP + FN}\n",
        "$\n",
        "\n",
        "Where:\n",
        "- \\( TP \\): True Positives\n",
        "- \\( TN \\): True Negatives\n",
        "- \\( FP \\): False Positives\n",
        "- \\( FN \\): False Negatives"
      ],
      "metadata": {
        "id": "Dq5pYnLVjtJC"
      }
    },
    {
      "cell_type": "code",
      "source": [
        "from sklearn.metrics import accuracy_score\n",
        "\n",
        "y_true = [1,0,1,1]\n",
        "y_pred = [1,0,0,1]\n",
        "\n",
        "accuracy = accuracy_score(y_true, y_pred)\n",
        "accuracy"
      ],
      "metadata": {
        "colab": {
          "base_uri": "https://localhost:8080/"
        },
        "id": "ByY9BGfpiZoe",
        "outputId": "821a2d92-a3fc-45b7-c127-265f368c1c2a"
      },
      "execution_count": 69,
      "outputs": [
        {
          "output_type": "execute_result",
          "data": {
            "text/plain": [
              "0.75"
            ]
          },
          "metadata": {},
          "execution_count": 69
        }
      ]
    },
    {
      "cell_type": "markdown",
      "source": [
        "## <a id='precision'></a>Precision\n",
        "Precision is calculated by dividing the number of true positives by the total number of positive predictions.\n",
        "\n",
        "> $\n",
        "\\text{Precision} = \\frac{TP}{TP + FP}\n",
        "$\n",
        "\n",
        "Where:\n",
        "- \\( TP \\): True Positives\n",
        "- \\( FP \\): False Positives\n"
      ],
      "metadata": {
        "id": "kSPQd18psfMv"
      }
    },
    {
      "cell_type": "code",
      "source": [
        "from sklearn.metrics import precision_score\n",
        "\n",
        "precision = precision_score(y_true, y_pred)\n",
        "precision"
      ],
      "metadata": {
        "colab": {
          "base_uri": "https://localhost:8080/"
        },
        "id": "qw45wghmuA83",
        "outputId": "ed649c07-25c8-41ad-c642-026a3ebf2b86"
      },
      "execution_count": 70,
      "outputs": [
        {
          "output_type": "execute_result",
          "data": {
            "text/plain": [
              "1.0"
            ]
          },
          "metadata": {},
          "execution_count": 70
        }
      ]
    },
    {
      "cell_type": "markdown",
      "source": [
        "## <a id='recall'></a>Recall\n",
        "Recall is calculated by dividing the number of true positives by the total number of positive examples.\n",
        "\n",
        ">$\n",
        "\\text{Recall} = \\frac{TP}{TP + FN}\n",
        "$\n",
        "\n",
        "Where:\n",
        "- \\( TP \\): True Positives\n",
        "- \\( FN \\): False Negatives\n"
      ],
      "metadata": {
        "id": "cTCWc8H0s2ce"
      }
    },
    {
      "cell_type": "code",
      "source": [
        "from sklearn.metrics import recall_score\n",
        "\n",
        "recall = recall_score(y_true, y_pred)\n",
        "recall"
      ],
      "metadata": {
        "colab": {
          "base_uri": "https://localhost:8080/"
        },
        "id": "YivR6yEHuOSY",
        "outputId": "4db7d001-57aa-47dd-8b27-f501d9d0e12e"
      },
      "execution_count": 71,
      "outputs": [
        {
          "output_type": "execute_result",
          "data": {
            "text/plain": [
              "0.6666666666666666"
            ]
          },
          "metadata": {},
          "execution_count": 71
        }
      ]
    },
    {
      "cell_type": "markdown",
      "source": [
        "## <a id='f1-score'></a>F1 Score\n",
        "The F1 score is a weighted average of precision and recall. It is calculated by taking the harmonic mean of precision and recall.\n",
        "\n",
        "> $\n",
        "\\text{F1 Score} = 2 \\times \\frac{\\text{Precision} \\times \\text{Recall}}{\\text{Precision} + \\text{Recall}}\n",
        "$\n",
        "\n"
      ],
      "metadata": {
        "id": "BsYzcYlNs4UO"
      }
    },
    {
      "cell_type": "code",
      "source": [
        "from sklearn.metrics import f1_score\n",
        "\n",
        "f1 = f1_score(y_true,y_pred)\n",
        "f1"
      ],
      "metadata": {
        "colab": {
          "base_uri": "https://localhost:8080/"
        },
        "id": "uAnA-cw_uqdS",
        "outputId": "4167d4a0-102e-420c-af02-d2849b9da547"
      },
      "execution_count": 72,
      "outputs": [
        {
          "output_type": "execute_result",
          "data": {
            "text/plain": [
              "0.8"
            ]
          },
          "metadata": {},
          "execution_count": 72
        }
      ]
    },
    {
      "cell_type": "markdown",
      "source": [
        "## <a id='confusion-matrix'></a>Confusion Matrix\n",
        "\n",
        "> $\n",
        "\\begin{matrix}\n",
        " & \\text{Predicted Positive} & \\text{Predicted Negative} \\\\\n",
        "\\text{Actual Positive} & TP & FN \\\\\n",
        "\\text{Actual Negative} & FP & TN \\\\\n",
        "\\end{matrix}\n",
        "$\n",
        "\n",
        "Where:\n",
        "- \\( TP \\): True Positives\n",
        "- \\( TN \\): True Negatives\n",
        "- \\( FP \\): False Positives\n",
        "- \\( FN \\): False Negatives\n"
      ],
      "metadata": {
        "id": "IaafDJ8xs9SG"
      }
    },
    {
      "cell_type": "code",
      "source": [
        "from sklearn.metrics import confusion_matrix\n",
        "\n",
        "confusionmatrix = confusion_matrix(y_true, y_pred)\n",
        "confusionmatrix"
      ],
      "metadata": {
        "colab": {
          "base_uri": "https://localhost:8080/"
        },
        "id": "67mXKAZOs8rf",
        "outputId": "f4aa022e-8224-406d-a0ce-a7821cbdda10"
      },
      "execution_count": 73,
      "outputs": [
        {
          "output_type": "execute_result",
          "data": {
            "text/plain": [
              "array([[1, 0],\n",
              "       [1, 2]])"
            ]
          },
          "metadata": {},
          "execution_count": 73
        }
      ]
    },
    {
      "cell_type": "markdown",
      "source": [
        "## <a id='specificity'></a>Specificity\n",
        "Specificity measures the proportion of actual negatives that are correctly identified by the model. It is particularly useful in scenarios where the cost of false positives is high, such as in medical diagnostics.\n",
        "\n",
        "\n",
        "> $\n",
        "\\text{Specificity} = \\frac{TN}{TN + FP}\n",
        "$\n",
        "\n",
        "Where:\n",
        "- \\( TN \\): True Negatives\n",
        "- \\( FP \\): False Positives\n",
        "\n"
      ],
      "metadata": {
        "id": "GrVj89YFwjo2"
      }
    },
    {
      "cell_type": "code",
      "source": [
        "tn, fp, fn, tp = confusion_matrix(y_true, y_pred).ravel()\n",
        "\n",
        "specificity = tn / (tn + fp)\n",
        "specificity"
      ],
      "metadata": {
        "colab": {
          "base_uri": "https://localhost:8080/"
        },
        "id": "81rLdsCyolOT",
        "outputId": "8cc71940-d090-4974-afc4-1707d65eb314"
      },
      "execution_count": 74,
      "outputs": [
        {
          "output_type": "execute_result",
          "data": {
            "text/plain": [
              "1.0"
            ]
          },
          "metadata": {},
          "execution_count": 74
        }
      ]
    },
    {
      "cell_type": "markdown",
      "source": [
        "## <a id='log-loss'></a>Log Loss / Binary Cross Entropy Loss\n",
        "\n",
        "Binary cross-entropy is a loss function used in binary classification problems where the target variable has two possible outcomes, 0 and 1 and it measures the performance of the classification model whose output is a probability is a value between them. The goal of the model is to minimize this loss function during training to improve its predictive accuracy.\n",
        "\n",
        ">$\n",
        "\\text{Log Loss} = - \\frac{1}{n} \\sum_{i=1}^{n} \\left[ y_i \\log(p_i) + (1 - y_i) \\log(1 - p_i) \\right]$"
      ],
      "metadata": {
        "id": "6kHF-E6ZZqKB"
      }
    },
    {
      "cell_type": "code",
      "source": [
        "from sklearn.metrics import log_loss\n",
        "\n",
        "logloss = log_loss(y_true, y_pred)\n",
        "print(f'Log Loss: {logloss}')\n"
      ],
      "metadata": {
        "colab": {
          "base_uri": "https://localhost:8080/"
        },
        "id": "1t6YwwdsNHkb",
        "outputId": "826177a3-e103-4858-d17c-07d80c5829cc"
      },
      "execution_count": 75,
      "outputs": [
        {
          "output_type": "stream",
          "name": "stdout",
          "text": [
            "Log Loss: 9.010913347279288\n"
          ]
        }
      ]
    },
    {
      "cell_type": "markdown",
      "source": [
        "\n",
        "## <a id='roc-auc'></a>ROC Curve and AUC\n",
        "**ROC Curve (Receiver Operating Characteristic Curve):**\n",
        "\n",
        "- A graphical representation of a classifier's performance at various threshold levels.\n",
        "- Plots the True Positive Rate (TPR) against the False Positive Rate (FPR).\n",
        "- TPR (Recall): Proportion of actual positives correctly identified.\n",
        "- FPR: Proportion of actual negatives incorrectly identified as positives.\n",
        "\n",
        "**Area Under the Curve (AUC):**\n",
        "\n",
        "- Measures the entire two-dimensional area underneath the ROC curve.\n",
        "- AUC value ranges from 0 to 1:\n",
        "  - 1: Perfect classifier\n",
        "  - 0.5: No discrimination (random guessing)\n",
        "  - < 0.5: Worse than random guessing\n",
        "- A higher AUC indicates better model performance in distinguishing between positive and negative classes.\n",
        "- The AUC (Area Under Curve) score provides an aggregate measure of the model's ability to distinguish between positive and negative classes.\n",
        "\n",
        ">$True Positive Rate (TPR) / Recall: \\text{TPR} = \\frac{\\text{TP}}{\\text{TP} + \\text{FN}}$\n",
        "\n",
        ">$False Positive Rate (FPR):\n",
        "\\text{FPR} = \\frac{\\text{FP}}{\\text{FP} + \\text{TN}}$"
      ],
      "metadata": {
        "id": "feZwo16f5G6E"
      }
    },
    {
      "cell_type": "code",
      "source": [
        "make_classification?\n"
      ],
      "metadata": {
        "id": "YPA-oXudNniz"
      },
      "execution_count": 76,
      "outputs": []
    },
    {
      "cell_type": "code",
      "source": [
        "import matplotlib.pyplot as plt\n",
        "from sklearn.metrics import roc_curve, auc, roc_auc_score\n",
        "from sklearn.linear_model import LogisticRegression\n",
        "from sklearn.model_selection import train_test_split\n",
        "from sklearn.datasets import make_classification\n",
        "\n",
        "#creating dataset\n",
        "X, y = make_classification(n_samples=100000, n_features=20, random_state=42)\n",
        "\n",
        "#splitting dataset into training and testing\n",
        "X_train, X_test, y_train, y_test = train_test_split(X, y, test_size=0.3, random_state=42)\n",
        "\n",
        "#logistic regression model\n",
        "model = LogisticRegression()\n",
        "model.fit(X_train, y_train)\n",
        "\n",
        "#predicted probabilities\n",
        "y_scores = model.predict_proba(X_test)[:, 1]\n",
        "\n",
        "#ROC curve\n",
        "fpr, tpr, thresholds = roc_curve(y_test, y_scores)\n",
        "roc_auc = auc(fpr, tpr)\n",
        "roc_auc\n"
      ],
      "metadata": {
        "colab": {
          "base_uri": "https://localhost:8080/"
        },
        "id": "6r2Hsxoo5HQ8",
        "outputId": "734b565f-f808-4529-f546-ff4c9b6f5977"
      },
      "execution_count": 77,
      "outputs": [
        {
          "output_type": "execute_result",
          "data": {
            "text/plain": [
              "0.9398923609876685"
            ]
          },
          "metadata": {},
          "execution_count": 77
        }
      ]
    },
    {
      "cell_type": "code",
      "source": [
        "plt.figure()\n",
        "plt.plot(fpr, tpr, color='blue', label='ROC curve (area = {:.2f})'.format(roc_auc))\n",
        "plt.plot([0, 1], [0, 1], color='red', linestyle='--')\n",
        "plt.xlim([0.0, 1.0])\n",
        "plt.ylim([0.0, 1.0])\n",
        "plt.xlabel('False Positive Rate')\n",
        "plt.ylabel('True Positive Rate')\n",
        "plt.title('Receiver Operating Characteristic (ROC) Curve')\n",
        "plt.legend(loc='lower right')\n",
        "plt.show()"
      ],
      "metadata": {
        "colab": {
          "base_uri": "https://localhost:8080/",
          "height": 472
        },
        "id": "yy19_1CvCS-m",
        "outputId": "938ff6e3-e28d-4600-d4a9-d05664d1f184"
      },
      "execution_count": 78,
      "outputs": [
        {
          "output_type": "display_data",
          "data": {
            "text/plain": [
              "<Figure size 640x480 with 1 Axes>"
            ],
            "image/png": "[encoded data removed]"
          },
          "metadata": {}
        }
      ]
    },
    {
      "cell_type": "markdown",
      "source": [
        "Explanation of the functions `roc_curve`, `auc`, and `roc_auc_score` from `sklearn.metrics`.\n",
        "\n",
        "**1. roc_curve**\n",
        "\n",
        "roc_curve computes the *True Positive Rate (TPR) and False Positive Rate (FPR)* for different threshold values. It helps in plotting the ROC curve.\n",
        "\n",
        "Usage:\n",
        "\n",
        ">`from sklearn.metrics import roc_curve`\n",
        ">\n",
        ">`fpr, tpr, thresholds = roc_curve(y_true, y_scores)`\n",
        "\n",
        "Parameters:\n",
        "\n",
        "- `y_true`: True binary labels in binary label format (0 and 1).\n",
        "- `y_scores`: Target scores, can be probability estimates of the positive class.\n",
        "\n",
        "Returns:\n",
        "\n",
        "- `fpr`: False Positive Rates.\n",
        "- `tpr`: True Positive Rates.\n",
        "- `thresholds`: Threshold values to compute the rates.\n",
        "\n",
        "\n",
        "**2. auc**\n",
        "\n",
        "auc computes the area under the ROC curve. It takes the FPR and TPR arrays and calculates the area using the trapezoidal rule.\n",
        "\n",
        "Usage:\n",
        "\n",
        ">`from sklearn.metrics import auc`\n",
        ">\n",
        ">`roc_auc = auc(fpr, tpr)`\n",
        "\n",
        "Parameters:\n",
        "\n",
        "- `fpr`: False Positive Rates from roc_curve.\n",
        "- `tpr`: True Positive Rates from roc_curve.\n",
        "\n",
        "Returns:\n",
        "\n",
        "- `roc_auc`: Area under the ROC curve.\n",
        "\n",
        "**3. roc_auc_score**\n",
        "\n",
        "\n",
        "roc_auc_score calculates the ROC AUC score directly from true labels and predicted probabilities.\n",
        "\n",
        "Usage:\n",
        "\n",
        ">`from sklearn.metrics import roc_auc_score`\n",
        ">\n",
        ">`roc_auc = roc_auc_score(y_true, y_scores)`\n",
        "\n",
        "Parameters:\n",
        "\n",
        "- `y_true`: True binary labels in binary label format (0 and 1).\n",
        "-`y_scores`: Target scores, can be probability estimates of the positive class.\n",
        "\n",
        "Returns:\n",
        "- `roc_auc`: AUC score (between 0 and 1)."
      ],
      "metadata": {
        "id": "Zmxz760RLtlu"
      }
    }
  ]
}
